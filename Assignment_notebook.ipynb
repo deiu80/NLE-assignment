{
  "cells": [
    {
      "cell_type": "code",
      "execution_count": 11,
      "metadata": {
        "id": "mu56NoFcK7rM"
      },
      "outputs": [],
      "source": [
        "from keras.callbacks import EarlyStopping ,ModelCheckpoint\n",
        "import tensorflow as tf\n",
        "import pandas as pd\n",
        "import numpy as np\n",
        "import os"
      ]
    },
    {
      "cell_type": "code",
      "execution_count": 12,
      "metadata": {
        "id": "qlvHJ0AuLI5A"
      },
      "outputs": [],
      "source": [
        "# reading the data from storage\n",
        "# replace the path with yours \n",
        "dataset_path = \"/content/drive/MyDrive/IMDB Dataset.csv\"\n",
        "dataframe = pd.read_csv(dataset_path)"
      ]
    },
    {
      "cell_type": "code",
      "execution_count": 13,
      "metadata": {
        "colab": {
          "base_uri": "https://localhost:8080/"
        },
        "id": "_13PbrYlMB1F",
        "outputId": "a93dd160-0af3-46be-d00a-17e594ec8b48"
      },
      "outputs": [
        {
          "output_type": "execute_result",
          "data": {
            "text/plain": [
              "(50000, 2)"
            ]
          },
          "metadata": {},
          "execution_count": 13
        }
      ],
      "source": [
        "dataframe.shape"
      ]
    },
    {
      "cell_type": "code",
      "execution_count": 14,
      "metadata": {
        "colab": {
          "base_uri": "https://localhost:8080/"
        },
        "id": "cvEA-Q8TMCyL",
        "outputId": "0011127f-2449-42b1-ed17-9dc4b4411d52"
      },
      "outputs": [
        {
          "output_type": "execute_result",
          "data": {
            "text/plain": [
              "positive    25000\n",
              "negative    25000\n",
              "Name: sentiment, dtype: int64"
            ]
          },
          "metadata": {},
          "execution_count": 14
        }
      ],
      "source": [
        "dataframe['sentiment'].value_counts()"
      ]
    },
    {
      "cell_type": "code",
      "execution_count": 15,
      "metadata": {
        "id": "grcnorb4MdOp"
      },
      "outputs": [],
      "source": [
        "# mapping categorical labels to numbers 0,1\n",
        "dataframe['sentiment'] = dataframe['sentiment'].map({'positive':0,'negative':1})\n",
        "\n",
        "# splitting the data 80% for training and 20% testing\n",
        "train_df = dataframe.sample(frac=0.8,random_state=100)\n",
        "test_df = dataframe.drop(train_df.index)"
      ]
    },
    {
      "cell_type": "code",
      "execution_count": 16,
      "metadata": {
        "colab": {
          "base_uri": "https://localhost:8080/"
        },
        "id": "Uo6Y3bplM03P",
        "outputId": "c63f962d-2460-42e3-cd1a-e60c3d3266e4"
      },
      "outputs": [
        {
          "output_type": "execute_result",
          "data": {
            "text/plain": [
              "(40000, 2)"
            ]
          },
          "metadata": {},
          "execution_count": 16
        }
      ],
      "source": [
        "train_df.shape"
      ]
    },
    {
      "cell_type": "code",
      "execution_count": 17,
      "metadata": {
        "colab": {
          "base_uri": "https://localhost:8080/"
        },
        "id": "2IMyZh3SM2od",
        "outputId": "fba097a1-d341-4692-e693-6e96f7c186ae"
      },
      "outputs": [
        {
          "output_type": "execute_result",
          "data": {
            "text/plain": [
              "(10000, 2)"
            ]
          },
          "metadata": {},
          "execution_count": 17
        }
      ],
      "source": [
        "test_df.shape"
      ]
    },
    {
      "cell_type": "code",
      "execution_count": 18,
      "metadata": {
        "colab": {
          "base_uri": "https://localhost:8080/"
        },
        "id": "AaKhr_m0SKg1",
        "outputId": "8ea494b9-ef59-48b5-c673-9017f2711d7d"
      },
      "outputs": [
        {
          "output_type": "stream",
          "name": "stderr",
          "text": [
            "[nltk_data] Downloading package stopwords to /root/nltk_data...\n",
            "[nltk_data]   Unzipping corpora/stopwords.zip.\n"
          ]
        }
      ],
      "source": [
        "import nltk.corpus\n",
        "nltk.download('stopwords')\n",
        "from nltk.corpus import stopwords"
      ]
    },
    {
      "cell_type": "markdown",
      "metadata": {
        "id": "lfWy_0vAdn__"
      },
      "source": [
        "Dataset cleaning\n"
      ]
    },
    {
      "cell_type": "code",
      "execution_count": 19,
      "metadata": {
        "id": "zRV95gMigtSR"
      },
      "outputs": [],
      "source": [
        "import string, re\n",
        "from nltk.stem.porter import PorterStemmer\n",
        "stemmer = PorterStemmer()\n",
        "stop_words = stopwords.words('english')\n",
        "\n",
        "# custom review cleaning method, we remove stopdwords <br> HTML tags\n",
        "# have tried stemming but there was no improvements in model's performance\n",
        "\n",
        "def custom_standardization(input_data):\n",
        "  stripped_html = input_data.replace('<br />', '')\n",
        "  # text = \" \".join([stemmer.stem(word) for word in stripped_html.split() if re.search(\"\\w\", word) and word not in stop_words ])\n",
        "  text2 = \" \".join([word for word in stripped_html.split() if re.search(\"\\w\", word) and word not in stop_words ])\n",
        "  return text2"
      ]
    },
    {
      "cell_type": "code",
      "execution_count": 20,
      "metadata": {
        "colab": {
          "base_uri": "https://localhost:8080/"
        },
        "id": "FCcO0PktguTG",
        "outputId": "6198e78e-6a9b-42ba-effc-33b14d0c088b"
      },
      "outputs": [
        {
          "output_type": "stream",
          "name": "stdout",
          "text": [
            "This is a documentary about homeless women. It was interesting in the sense that this focused on women who are engaged socially - having jobs and lasting friendships - but are in situations where they can not afford housing.<br /><br />I found some of the women covered to be interesting, but there was little focus or progression in the story. The direction and editing failed to maintain my attention. There were differences in the stories of these women, of course, but the message was essentially the same and could have been told by focusing on any one of them in more depth.<br /><br />I made it to the end of the movie, but it was a rather boring journey.\n"
          ]
        }
      ],
      "source": [
        "print(train_df['review'].values[0])"
      ]
    },
    {
      "cell_type": "code",
      "execution_count": 21,
      "metadata": {
        "id": "IjEcG1TkwJH5"
      },
      "outputs": [],
      "source": [
        "# we iterate through every review and run our custom method of text cleaning from above\n",
        "i=0\n",
        "for review_text in train_df['review'].values:\n",
        "    train_df['review'].values[i] = custom_standardization(review_text)\n",
        "    i+=1"
      ]
    },
    {
      "cell_type": "code",
      "source": [
        "# review text after first step cleaning\n",
        "print(train_df['review'].values[0])"
      ],
      "metadata": {
        "colab": {
          "base_uri": "https://localhost:8080/"
        },
        "id": "5fX3sXKHipb2",
        "outputId": "2c798729-2a86-42c6-d420-a8ed613ac1f6"
      },
      "execution_count": 22,
      "outputs": [
        {
          "output_type": "stream",
          "name": "stdout",
          "text": [
            "This documentary homeless women. It interesting sense focused women engaged socially jobs lasting friendships situations afford housing.I found women covered interesting, little focus progression story. The direction editing failed maintain attention. There differences stories women, course, message essentially could told focusing one depth.I made end movie, rather boring journey.\n"
          ]
        }
      ]
    },
    {
      "cell_type": "code",
      "execution_count": 23,
      "metadata": {
        "id": "VlOQuXvMM6oZ"
      },
      "outputs": [],
      "source": [
        "tokenizer  = tf.keras.preprocessing.text.Tokenizer(num_words=10000,\n",
        "                                                  oov_token = '<UNK>',\n",
        "                                                  filters='!\"#$%&()*+,-./:;<=>?@[\\\\]^_`{|}~\\t\\n',\n",
        "                                                  lower=True,\n",
        "                                                  split=' ',)\n",
        "tokenizer.fit_on_texts(np.append(train_df['review'].values,test_df['review'].values))\n",
        "\n",
        "# unique words present in our dataset\n",
        "word_index = tokenizer.word_index\n",
        "vocab_size = len(word_index) + 1\n"
      ]
    },
    {
      "cell_type": "code",
      "execution_count": 24,
      "metadata": {
        "id": "8iKpzofyNMgG",
        "colab": {
          "base_uri": "https://localhost:8080/"
        },
        "outputId": "ee7a7a2f-c903-45af-8aab-e86600a274eb"
      },
      "outputs": [
        {
          "output_type": "stream",
          "name": "stdout",
          "text": [
            "Testing sequences:\n",
            " [[45, 31, 16, 171, 5319, 5798, 2143, 31, 262, 16, 10, 4, 45, 31, 63, 143, 91, 110, 159, 31, 262, 65, 10, 4, 577, 22, 109, 1593, 399, 8, 15, 15, 39, 1209], [10, 6, 741, 11, 67, 170, 59, 130, 36, 68, 552, 1, 969, 2061, 342, 2680, 4484, 718, 158, 196, 1177, 1, 2, 991, 236, 33, 5, 33, 8, 1196, 3292, 68, 36, 9, 131, 18, 43, 30, 150, 593, 11, 367, 97, 88, 1600, 8, 232, 1262, 2, 78, 15, 15, 225, 3, 1095, 2, 1156, 488, 266, 1, 8, 1, 97, 11, 25, 451, 7, 4038, 755, 226, 93, 8, 262, 67, 582, 87, 263, 7149, 11, 4437, 2, 549, 9, 2, 2067, 9, 7, 575, 6788, 211, 290, 302, 2, 305, 464, 437, 5, 326, 9, 10, 843, 6, 15, 15, 43, 14, 7, 6788, 11, 67, 46, 115, 2, 1, 9, 266, 18, 1, 208, 68, 8, 13, 10, 48, 1, 2, 259, 8173, 9, 76, 14, 1447, 1750, 97, 7, 185, 9, 248, 8481, 156, 4032, 1, 7, 1940, 1130, 27, 4915]]\n",
            "\n",
            "Padded testing sequences:\n",
            " [[ 45  31  16 ...   0   0   0]\n",
            " [ 10   6 741 ...   0   0   0]]\n",
            "\n",
            "Padded testing shape: (10000, 1528)\n"
          ]
        }
      ],
      "source": [
        "pad_type = 'post'\n",
        "trunc_type = 'post'\n",
        "#  convert text word to number by assigning the unique number to each word. \n",
        "train_seq = tokenizer.texts_to_sequences(train_df[\"review\"])\n",
        "\n",
        "# Get maximum length of all training sequences \n",
        "max_length = max([len(x) for x in train_seq])\n",
        "\n",
        "train_data = tf.keras.preprocessing.sequence.pad_sequences(train_seq,\n",
        "                                                           padding=pad_type,\n",
        "                                                           truncating=trunc_type,\n",
        "                                                           maxlen=max_length)\n",
        "\n",
        "\n",
        "test_seq = tokenizer.texts_to_sequences(test_df[\"review\"])\n",
        "\n",
        "# pad the sequences to max_length.\n",
        "# we will be adding 0's towards the end if sequence length < max_length\n",
        "test_data = tf.keras.preprocessing.sequence.pad_sequences(test_seq,\n",
        "                                                          padding=pad_type,\n",
        "                                                          truncating=trunc_type,\n",
        "                                                          maxlen=max_length)\n",
        "test_padded = tf.keras.preprocessing.sequence.pad_sequences(test_seq,\n",
        "                                                            padding=pad_type,\n",
        "                                                            truncating=trunc_type,\n",
        "                                                            maxlen=max_length)\n",
        "\n",
        "print(\"Testing sequences:\\n\", test_seq[:2])\n",
        "print(\"\\nPadded testing sequences:\\n\", test_padded[:2])\n",
        "print(\"\\nPadded testing shape:\",test_padded.shape)"
      ]
    },
    {
      "cell_type": "code",
      "execution_count": 25,
      "metadata": {
        "colab": {
          "base_uri": "https://localhost:8080/"
        },
        "id": "_ZeUWBBaNSa5",
        "outputId": "bf43f276-6978-4dc5-a81a-f8f14e2a5f3d"
      },
      "outputs": [
        {
          "output_type": "stream",
          "name": "stdout",
          "text": [
            "(40000, 1528)\n",
            "(10000, 1528)\n"
          ]
        }
      ],
      "source": [
        "print(train_data.shape)\n",
        "print(test_data.shape)\n"
      ]
    },
    {
      "cell_type": "code",
      "execution_count": 26,
      "metadata": {
        "colab": {
          "base_uri": "https://localhost:8080/"
        },
        "id": "SiIOCE7SNvnk",
        "outputId": "d60a03f6-1d00-4ca6-aa7e-507de8718f58"
      },
      "outputs": [
        {
          "output_type": "execute_result",
          "data": {
            "text/plain": [
              "125226"
            ]
          },
          "metadata": {},
          "execution_count": 26
        }
      ],
      "source": [
        "len(word_index)"
      ]
    },
    {
      "cell_type": "code",
      "execution_count": 27,
      "metadata": {
        "id": "cr3XT1zdN4sb"
      },
      "outputs": [],
      "source": [
        "train_label = train_df['sentiment'].values\n",
        "test_label = test_df['sentiment'].values"
      ]
    },
    {
      "cell_type": "code",
      "execution_count": 28,
      "metadata": {
        "id": "BkyFsaUGTcXv"
      },
      "outputs": [],
      "source": [
        "vocab_size = len(word_index) + 1"
      ]
    },
    {
      "cell_type": "code",
      "execution_count": 29,
      "metadata": {
        "colab": {
          "base_uri": "https://localhost:8080/"
        },
        "id": "qdfWWXUuOSHW",
        "outputId": "757af75f-109d-4496-dbf7-b64c9f314625"
      },
      "outputs": [
        {
          "output_type": "stream",
          "name": "stdout",
          "text": [
            "Model: \"sequential\"\n",
            "_________________________________________________________________\n",
            " Layer (type)                Output Shape              Param #   \n",
            "=================================================================\n",
            " embedding (Embedding)       (None, 1528, 32)          4007264   \n",
            "                                                                 \n",
            " global_average_pooling1d (G  (None, 32)               0         \n",
            " lobalAveragePooling1D)                                          \n",
            "                                                                 \n",
            " dense (Dense)               (None, 1)                 33        \n",
            "                                                                 \n",
            "=================================================================\n",
            "Total params: 4,007,297\n",
            "Trainable params: 4,007,297\n",
            "Non-trainable params: 0\n",
            "_________________________________________________________________\n"
          ]
        }
      ],
      "source": [
        "# adding the model's layers and outputting a summary of the architecture\n",
        "def create_model():\n",
        "    model = tf.keras.Sequential([\n",
        "      tf.keras.layers.Embedding(vocab_size, 32,\n",
        "                                input_length=max_length),\n",
        "      tf.keras.layers.GlobalAveragePooling1D(),\n",
        "      tf.keras.layers.Dense(1,activation=\"sigmoid\")])\n",
        "\n",
        "    model.compile(optimizer='adam', loss='binary_crossentropy', metrics=['accuracy'])\n",
        "\n",
        "    return model\n",
        "\n",
        "model = create_model()\n",
        "model.summary()"
      ]
    },
    {
      "cell_type": "code",
      "source": [
        "from keras.utils.vis_utils import plot_model\n",
        "\n",
        "plot_model(model, to_file='model_plot.png', show_shapes=True, show_layer_names=True)"
      ],
      "metadata": {
        "colab": {
          "base_uri": "https://localhost:8080/",
          "height": 422
        },
        "id": "9wAT824YOezk",
        "outputId": "2a64d07d-8973-4543-df0b-acdceaa48862"
      },
      "execution_count": 30,
      "outputs": [
        {
          "output_type": "execute_result",
          "data": {
            "image/png": "[encoded data removed]",
            "text/plain": [
              "<IPython.core.display.Image object>"
            ]
          },
          "metadata": {},
          "execution_count": 30
        }
      ]
    },
    {
      "cell_type": "code",
      "execution_count": 31,
      "metadata": {
        "colab": {
          "base_uri": "https://localhost:8080/",
          "height": 781
        },
        "id": "19Zk2B4jOVNC",
        "outputId": "6d168daf-4cdc-4248-9259-7872e83bd33b"
      },
      "outputs": [
        {
          "output_type": "display_data",
          "data": {
            "text/plain": [
              "<Figure size 864x576 with 2 Axes>"
            ],
            "image/png": "[encoded data removed]"
          },
          "metadata": {
            "needs_background": "light"
          }
        },
        {
          "output_type": "stream",
          "name": "stdout",
          "text": [
            "accuracy\n",
            "\ttraining         \t (min:    0.624, max:    0.928, cur:    0.928)\n",
            "\tvalidation       \t (min:    0.643, max:    0.882, cur:    0.880)\n",
            "Loss\n",
            "\ttraining         \t (min:    0.195, max:    0.677, cur:    0.195)\n",
            "\tvalidation       \t (min:    0.303, max:    0.643, cur:    0.313)\n",
            "\n",
            "Epoch 16: val_accuracy did not improve from 0.88220\n",
            "Restoring model weights from the end of the best epoch: 12.\n",
            "1250/1250 [==============================] - 7s 5ms/step - loss: 0.1953 - accuracy: 0.9277 - val_loss: 0.3134 - val_accuracy: 0.8800\n",
            "Epoch 16: early stopping\n"
          ]
        }
      ],
      "source": [
        "# installing a library for live plotting the results obtained from training the model\n",
        "# we also do configure ModelCheckpoint and EarlyStopping callbacks to save the best model\n",
        "!pip install livelossplot\n",
        "from livelossplot.inputs.tf_keras import PlotLossesCallback\n",
        "checkpoint = ModelCheckpoint(\"/content/best_NLP_IMDB.h5\", monitor=\"val_accuracy\",\n",
        "                             save_best_only=True, mode='max', verbose=1)\n",
        "\n",
        "es = EarlyStopping(monitor=\"val_accuracy\",\n",
        "                  patience=4,\n",
        "                  verbose=1,\n",
        "                  restore_best_weights=True)\n",
        "\n",
        "\n",
        "call_back = [PlotLossesCallback(),checkpoint,es]\n",
        "epochs = 25\n",
        "\n",
        "history = model.fit(train_data,\n",
        "                    train_label,\n",
        "                    epochs=epochs,\n",
        "                    validation_data = (test_data,test_label),\n",
        "                    callbacks=call_back)"
      ]
    },
    {
      "cell_type": "code",
      "execution_count": 32,
      "metadata": {
        "colab": {
          "base_uri": "https://localhost:8080/"
        },
        "id": "Qb5qn_zaPRD9",
        "outputId": "1fbfa591-ec19-402a-f545-c16a43d39b75"
      },
      "outputs": [
        {
          "output_type": "stream",
          "name": "stdout",
          "text": [
            "313/313 [==============================] - 1s 2ms/step - loss: 0.3034 - accuracy: 0.8822\n",
            "Accuracy % : 88.22000026702881\n",
            "Loss     : 0.3034493625164032\n"
          ]
        }
      ],
      "source": [
        "loss, accuracy = model.evaluate(test_data,test_label)\n",
        "\n",
        "print(f\"Accuracy % : {accuracy*100}\")\n",
        "print(f\"Loss     : {loss}\")"
      ]
    },
    {
      "cell_type": "code",
      "execution_count": 33,
      "metadata": {
        "colab": {
          "base_uri": "https://localhost:8080/"
        },
        "id": "xX53vvO1Qati",
        "outputId": "17f8b118-31f8-4b59-9e44-caac3921cacb"
      },
      "outputs": [
        {
          "output_type": "execute_result",
          "data": {
            "text/plain": [
              "dict_keys(['loss', 'accuracy', 'val_loss', 'val_accuracy'])"
            ]
          },
          "metadata": {},
          "execution_count": 33
        }
      ],
      "source": [
        "# metrics available in history\n",
        "history_dict = history.history\n",
        "history_dict.keys()"
      ]
    },
    {
      "cell_type": "code",
      "execution_count": 34,
      "metadata": {
        "colab": {
          "base_uri": "https://localhost:8080/",
          "height": 378
        },
        "id": "aPEGnlI9VClK",
        "outputId": "7b5d6279-e531-4476-8fed-1f00681c0754"
      },
      "outputs": [
        {
          "output_type": "display_data",
          "data": {
            "text/plain": [
              "<Figure size 864x432 with 2 Axes>"
            ],
            "image/png": "[encoded data removed]"
          },
          "metadata": {
            "needs_background": "light"
          }
        }
      ],
      "source": [
        "acc = history_dict['accuracy']\n",
        "val_acc = history_dict['val_accuracy']\n",
        "loss = history_dict['loss']\n",
        "val_loss = history_dict['val_loss']\n",
        "\n",
        "import matplotlib.pyplot as plt\n",
        "plt.figure(figsize=(12, 6))\n",
        "plt.subplot(1, 2, 1)\n",
        "plt.plot(acc, label=\"training accuracy\")\n",
        "plt.plot(val_acc, label=\"validation accuracy\")\n",
        "plt.legend()\n",
        "plt.ylim(0.25, 1.0)\n",
        "plt.xlim(0, epochs)\n",
        "plt.subplot(1, 2, 2)\n",
        "plt.plot(loss, label=\"training loss\")\n",
        "plt.plot(val_loss, label=\"validation loss\")\n",
        "plt.ylim(0.1, 1)\n",
        "plt.xlim(0, epochs)\n",
        "\n",
        "plt.legend()\n",
        "\n",
        "plt.show()"
      ]
    },
    {
      "cell_type": "code",
      "source": [
        "# we round the predictions so that we get an array with values of 0 or 1\n",
        "# this is so that we can use the variable when displaying the confusion matrix and classification report\n",
        "preds = model.predict(test_data,verbose=2).round()\n",
        "\n",
        "# full score predictions (floating number format between 0 and 1)\n",
        "preds_full = model.predict(test_data,verbose=2)"
      ],
      "metadata": {
        "colab": {
          "base_uri": "https://localhost:8080/"
        },
        "id": "CWYd7NZOoh4Z",
        "outputId": "1e50699a-b13d-4b9c-e983-15d213f7a11b"
      },
      "execution_count": 35,
      "outputs": [
        {
          "output_type": "stream",
          "name": "stdout",
          "text": [
            "313/313 - 0s - 470ms/epoch - 2ms/step\n",
            "313/313 - 0s - 382ms/epoch - 1ms/step\n"
          ]
        }
      ]
    },
    {
      "cell_type": "code",
      "source": [
        "# showing the first 5 values of the full predictions\n",
        "# the closer it is to 0 means the review is positive,\n",
        "#  otherwise means it is likely to be negative\n",
        "print(preds_full[:5])\n",
        "\n",
        "# we do set a threshold of 0.5 , value which separates positive and negative reviews\n",
        "# and display the first 3 reviews from the test dataset\n",
        "\n",
        "for i in range(3):\n",
        "  print()\n",
        "  if(preds_full[i] < 0.5):\n",
        "    print(preds_full[i], \"------- positive\")\n",
        "  else:\n",
        "      print(preds_full[i], \"------- negative\")\n",
        "  print(\"----------\")\n",
        "  print(test_df['review'].values[i])\n"
      ],
      "metadata": {
        "colab": {
          "base_uri": "https://localhost:8080/"
        },
        "id": "UVY3Vfjip7_k",
        "outputId": "d5e1ddd9-6973-41eb-b6c2-d8d853b0154d"
      },
      "execution_count": 36,
      "outputs": [
        {
          "output_type": "stream",
          "name": "stdout",
          "text": [
            "[[0.1738607 ]\n",
            " [0.65808827]\n",
            " [0.68268865]\n",
            " [0.9305932 ]\n",
            " [0.08932304]]\n",
            "\n",
            "[0.1738607] ------- positive\n",
            "----------\n",
            "If you like original gut wrenching laughter you will like this movie. If you are young or old then you will love this movie, hell even my mom liked it.<br /><br />Great Camp!!!\n",
            "\n",
            "[0.65808827] ------- negative\n",
            "----------\n",
            "This film tried to be too many things all at once: stinging political satire, Hollywood blockbuster, sappy romantic comedy, family values promo... the list goes on and on. It failed miserably at all of them, but there was enough interest to keep me from turning it off until the end.<br /><br />Although I appreciate the spirit behind WAR, INC., it depresses me to see such a clumsy effort, especially when it will be taken by its targets to reflect the lack of the existence of a serious critique, rather than simply the poor writing, direction, and production of this particular film.<br /><br />There is a critique to be made about the corporatization of war. But poking fun at it in this way diminishes the true atrocity of what is happening. Reminds me a bit of THREE KINGS, which similarly trivializes a genuine cause for concern.\n",
            "\n",
            "[0.68268865] ------- negative\n",
            "----------\n",
            "This movie was so frustrating. Everything seemed energetic and I was totally prepared to have a good time. I at least thought I'd be able to stand it. But, I was wrong. First, the weird looping? It was like watching \"America's Funniest Home Videos\". The damn parents. I hated them so much. The stereo-typical Latino family? I need to speak with the person responsible for this. We need to have a talk. That little girl who was always hanging on someone? I just hated her and had to mention it. Now, the final scene transcends, I must say. It's so gloriously bad and full of badness that it is a movie of its own. What crappy dancing. Horrible and beautiful at once.\n"
          ]
        }
      ]
    },
    {
      "cell_type": "code",
      "source": [
        "from sklearn.metrics import confusion_matrix\n",
        "from sklearn.metrics import ConfusionMatrixDisplay\n",
        "# calculating the values and plotting the confusion matrix\n",
        "cm = confusion_matrix(test_label, preds)\n",
        "\n",
        "TN, FP, FN, TP = confusion_matrix(test_label, preds).ravel()\n",
        "\n",
        "print('True Positive(TP)  = ', TP)\n",
        "print('False Positive(FP) = ', FP)\n",
        "print('True Negative(TN)  = ', TN)\n",
        "print('False Negative(FN) = ', FN)\n",
        "\n",
        "labels =['positive', 'negative']\n",
        "\n",
        "\n",
        "disp = ConfusionMatrixDisplay(confusion_matrix=cm,\n",
        "                             display_labels=labels)\n",
        " \n",
        "disp.plot(cmap='PuRd', xticks_rotation=15)\n"
      ],
      "metadata": {
        "colab": {
          "base_uri": "https://localhost:8080/",
          "height": 382
        },
        "id": "Y6FNTIJUpx2N",
        "outputId": "e9b5a280-202e-494a-af49-a38e888408fd"
      },
      "execution_count": 37,
      "outputs": [
        {
          "output_type": "stream",
          "name": "stdout",
          "text": [
            "True Positive(TP)  =  4533\n",
            "False Positive(FP) =  747\n",
            "True Negative(TN)  =  4289\n",
            "False Negative(FN) =  431\n"
          ]
        },
        {
          "output_type": "execute_result",
          "data": {
            "text/plain": [
              "<sklearn.metrics._plot.confusion_matrix.ConfusionMatrixDisplay at 0x7fde1e2cca00>"
            ]
          },
          "metadata": {},
          "execution_count": 37
        },
        {
          "output_type": "display_data",
          "data": {
            "text/plain": [
              "<Figure size 432x288 with 2 Axes>"
            ],
            "image/png": "[encoded data removed]"
          },
          "metadata": {
            "needs_background": "light"
          }
        }
      ]
    },
    {
      "cell_type": "code",
      "source": [
        "from sklearn.metrics import classification_report\n",
        "\n",
        "print(classification_report(test_label,preds,target_names=labels))"
      ],
      "metadata": {
        "colab": {
          "base_uri": "https://localhost:8080/"
        },
        "id": "uTThj47esORS",
        "outputId": "285a410e-9d71-42a2-a2a8-0fbf41989b75"
      },
      "execution_count": 38,
      "outputs": [
        {
          "output_type": "stream",
          "name": "stdout",
          "text": [
            "              precision    recall  f1-score   support\n",
            "\n",
            "    positive       0.91      0.85      0.88      5036\n",
            "    negative       0.86      0.91      0.89      4964\n",
            "\n",
            "    accuracy                           0.88     10000\n",
            "   macro avg       0.88      0.88      0.88     10000\n",
            "weighted avg       0.88      0.88      0.88     10000\n",
            "\n"
          ]
        }
      ]
    },
    {
      "cell_type": "code",
      "source": [
        "from sklearn.metrics import accuracy_score, confusion_matrix, roc_auc_score, roc_curve\n",
        "\n",
        "def plot_roc_curve():\n",
        "   # Calculate the ROC curve\n",
        "    fpr, tpr, thresholds = roc_curve(test_label, preds_full)\n",
        "\n",
        "    # Plot the ROC curve\n",
        "    plt.plot(fpr, tpr)\n",
        "    plt.xlabel(\"False Positive Rate\")\n",
        "    plt.ylabel(\"True Positive Rate\")\n",
        "    plt.title(\"ROC Curve\")\n",
        "    plt.show()"
      ],
      "metadata": {
        "id": "mMo9Wmgnvn1B"
      },
      "execution_count": 39,
      "outputs": []
    },
    {
      "cell_type": "code",
      "source": [
        "plot_roc_curve()\n",
        "print(f'model AUC score: {roc_auc_score(test_label, preds_full)}')"
      ],
      "metadata": {
        "colab": {
          "base_uri": "https://localhost:8080/",
          "height": 313
        },
        "id": "B_a6MwPAzT52",
        "outputId": "f4212634-d5b6-462f-9be2-7f216b16c10e"
      },
      "execution_count": 40,
      "outputs": [
        {
          "output_type": "display_data",
          "data": {
            "text/plain": [
              "<Figure size 432x288 with 1 Axes>"
            ],
            "image/png": "[encoded data removed]"
          },
          "metadata": {
            "needs_background": "light"
          }
        },
        {
          "output_type": "stream",
          "name": "stdout",
          "text": [
            "model AUC score: 0.9497853568729003\n"
          ]
        }
      ]
    },
    {
      "cell_type": "code",
      "source": [],
      "metadata": {
        "id": "Yl1icGSX1F6f"
      },
      "execution_count": 40,
      "outputs": []
    }
  ],
  "metadata": {
    "accelerator": "GPU",
    "colab": {
      "provenance": []
    },
    "gpuClass": "standard",
    "kernelspec": {
      "display_name": "Python 3",
      "name": "python3"
    },
    "language_info": {
      "name": "python"
    }
  },
  "nbformat": 4,
  "nbformat_minor": 0
}